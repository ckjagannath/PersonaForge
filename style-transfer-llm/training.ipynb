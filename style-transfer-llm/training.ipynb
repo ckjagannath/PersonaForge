{
 "cells": [
  {
   "cell_type": "code",
   "execution_count": 1,
   "metadata": {},
   "outputs": [
    {
     "name": "stdout",
     "output_type": "stream",
     "text": [
      "Train: 18971, Val: 2108\n"
     ]
    }
   ],
   "source": [
    "import json\n",
    "import random\n",
    "\n",
    "data_path = \"./shakespeare.jsonl\"\n",
    "\n",
    "with open(data_path, \"r\", encoding=\"utf-8\") as f:\n",
    "    data = [json.loads(line) for line in f]\n",
    "\n",
    "random.shuffle(data)\n",
    "\n",
    "split_idx = int(0.9 * len(data))\n",
    "train_data = data[:split_idx]\n",
    "val_data = data[split_idx:]\n",
    "\n",
    "def save_jsonl(filename, dataset):\n",
    "    with open(filename, \"w\", encoding=\"utf-8\") as f:\n",
    "        for item in dataset:\n",
    "            f.write(json.dumps(item, ensure_ascii=False) + \"\\n\")\n",
    "\n",
    "save_jsonl(\"data_train.jsonl\", train_data)\n",
    "save_jsonl(\"data_val.jsonl\", val_data)\n",
    "\n",
    "print(f\"Train: {len(train_data)}, Val: {len(val_data)}\")\n"
   ]
  },
  {
   "cell_type": "code",
   "execution_count": 2,
   "metadata": {},
   "outputs": [
    {
     "name": "stdout",
     "output_type": "stream",
     "text": [
      "{'instruction': 'Rewrite the text in Shakespearean style.', 'input': 'I just meant that our hearts are joined, so we can almost think of them as one heart.', 'output': 'I mean that my heart unto yours is knit So that but one heart we can make of it.'}\n",
      "\n",
      "\n",
      "{'instruction': 'Rewrite the text in Shakespearean style.', 'input': 'The princes are under some strange misunderstanding.', 'output': 'There is some strange misprision in the princes.'}\n",
      "\n",
      "\n",
      "{'instruction': 'Rewrite the text in Shakespearean style.', 'input': 'Everything’s fine now.', 'output': 'Now all is well.'}\n",
      "\n",
      "\n"
     ]
    }
   ],
   "source": [
    "for item in data[:3]:\n",
    "    print(item)\n",
    "    print(\"\\n\")"
   ]
  },
  {
   "cell_type": "code",
   "execution_count": null,
   "metadata": {},
   "outputs": [],
   "source": [
    "from datasets import load_dataset\n",
    "from transformers import AutoTokenizer, AutoModelForCausalLM, Trainer, TrainingArguments\n",
    "from peft import LoraConfig, get_peft_model, TaskType, PeftModel\n",
    "\n",
    "model_name = \"distilbert/distilgpt2\"\n",
    "tokenizer = AutoTokenizer.from_pretrained(model_name)\n",
    "tokenizer.pad_token = tokenizer.eos_token \n",
    "\n",
    "model = AutoModelForCausalLM.from_pretrained(model_name)\n",
    "\n",
    "lora_config = LoraConfig(\n",
    "    r=8,\n",
    "    lora_alpha=32,\n",
    "    target_modules=[\"c_attn\", \"c_proj\"],\n",
    "    lora_dropout=0.1,\n",
    "    task_type=TaskType.CAUSAL_LM\n",
    ")\n",
    "model = get_peft_model(model, lora_config)\n",
    "model.print_trainable_parameters()\n",
    "\n",
    "dataset = load_dataset(\"json\", data_files={\n",
    "    \"train\": \"data_train.jsonl\",\n",
    "    \"validation\": \"data_val.jsonl\"\n",
    "})\n",
    "\n",
    "def preprocess(example):\n",
    "\n",
    "    full_text = f\"Instruction: {example['instruction']} Input: {example['input']} Output: {example['output']}\"\n",
    "    prompt_text = f\"Instruction: {example['instruction']} Input: {example['input']} Output:\"\n",
    "\n",
    "    full_tokens = tokenizer(full_text, truncation=True, max_length=512)\n",
    "    prompt_tokens = tokenizer(prompt_text, truncation=True, max_length=512)\n",
    "\n",
    "    labels = full_tokens[\"input_ids\"].copy()\n",
    "\n",
    "    output_start = len(prompt_tokens[\"input_ids\"])\n",
    "\n",
    "    for i in range(output_start):\n",
    "        labels[i] = -100\n",
    "\n",
    "    full_tokens = tokenizer.pad(full_tokens, max_length=512, padding=\"max_length\")\n",
    "    full_tokens[\"labels\"] = labels + [-100] * (512 - len(labels))\n",
    "\n",
    "    return full_tokens\n",
    "\n",
    "tokenized_dataset = dataset.map(preprocess, batched=False)"
   ]
  }
 ],
 "metadata": {
  "kernelspec": {
   "display_name": "Python 3",
   "language": "python",
   "name": "python3"
  },
  "language_info": {
   "codemirror_mode": {
    "name": "ipython",
    "version": 3
   },
   "file_extension": ".py",
   "mimetype": "text/x-python",
   "name": "python",
   "nbconvert_exporter": "python",
   "pygments_lexer": "ipython3",
   "version": "3.9.6"
  }
 },
 "nbformat": 4,
 "nbformat_minor": 2
}
